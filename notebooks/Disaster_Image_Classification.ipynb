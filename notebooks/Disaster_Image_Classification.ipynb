{
  "nbformat": 4,
  "nbformat_minor": 0,
  "metadata": {
    "colab": {
      "name": "Disaster Image Classification.ipynb",
      "provenance": [],
      "collapsed_sections": []
    },
    "kernelspec": {
      "name": "python3",
      "display_name": "Python 3"
    },
    "language_info": {
      "name": "python"
    },
    "accelerator": "GPU"
  },
  "cells": [
    {
      "cell_type": "markdown",
      "metadata": {
        "id": "jcejdxbryn6-"
      },
      "source": [
        "# Load the image dataset"
      ]
    },
    {
      "cell_type": "code",
      "metadata": {
        "colab": {
          "base_uri": "https://localhost:8080/"
        },
        "id": "0RfLYQCCqz2u",
        "outputId": "2c9cd7b0-8811-4e9c-bd35-776afea76368"
      },
      "source": [
        "!nvidia-smi"
      ],
      "execution_count": null,
      "outputs": [
        {
          "output_type": "stream",
          "name": "stdout",
          "text": [
            "Thu Oct 28 07:37:37 2021       \n",
            "+-----------------------------------------------------------------------------+\n",
            "| NVIDIA-SMI 495.29.05    Driver Version: 460.32.03    CUDA Version: 11.2     |\n",
            "|-------------------------------+----------------------+----------------------+\n",
            "| GPU  Name        Persistence-M| Bus-Id        Disp.A | Volatile Uncorr. ECC |\n",
            "| Fan  Temp  Perf  Pwr:Usage/Cap|         Memory-Usage | GPU-Util  Compute M. |\n",
            "|                               |                      |               MIG M. |\n",
            "|===============================+======================+======================|\n",
            "|   0  Tesla K80           Off  | 00000000:00:04.0 Off |                    0 |\n",
            "| N/A   53C    P8    31W / 149W |      0MiB / 11441MiB |      0%      Default |\n",
            "|                               |                      |                  N/A |\n",
            "+-------------------------------+----------------------+----------------------+\n",
            "                                                                               \n",
            "+-----------------------------------------------------------------------------+\n",
            "| Processes:                                                                  |\n",
            "|  GPU   GI   CI        PID   Type   Process name                  GPU Memory |\n",
            "|        ID   ID                                                   Usage      |\n",
            "|=============================================================================|\n",
            "|  No running processes found                                                 |\n",
            "+-----------------------------------------------------------------------------+\n"
          ]
        }
      ]
    },
    {
      "cell_type": "code",
      "metadata": {
        "id": "UoG1SYFbYqdL",
        "colab": {
          "base_uri": "https://localhost:8080/"
        },
        "outputId": "1f0ede28-4a0e-43cf-e17c-b9844fd05aba"
      },
      "source": [
        "import os\n",
        "import shutil\n",
        "import numpy as np\n",
        "import matplotlib.pyplot as plt\n",
        "\n",
        "import tensorflow as tf\n",
        "\n",
        "from tensorflow.keras.preprocessing.image import ImageDataGenerator\n",
        "\n",
        "import tensorflow_hub as hub\n",
        "from tensorflow.keras import layers\n",
        "\n",
        "from sklearn import metrics\n",
        "\n",
        "ROOT = '/path/to/unzip/to/Dataset/'\n",
        "save_location = '/path/to/save/Comprehensive Disaster Dataset/models/'\n",
        "\n",
        "!ls drive/MyDrive/Project\\ Datasets/Image\\ Data/CDD"
      ],
      "execution_count": null,
      "outputs": [
        {
          "output_type": "stream",
          "name": "stdout",
          "text": [
            "'Comprehensive Disaster Dataset.zip'   models\n"
          ]
        }
      ]
    },
    {
      "cell_type": "code",
      "metadata": {
        "id": "ljgp7WdSaZX9"
      },
      "source": [
        "# -q: quiet; -qq: even quieter\n",
        "!unzip -qq '/path/to/zip/file/Comprehensive Disaster Dataset.zip' -d '/path/to/unzip/to/Dataset/'"
      ],
      "execution_count": null,
      "outputs": []
    },
    {
      "cell_type": "markdown",
      "metadata": {
        "id": "b12hbHY0ysiC"
      },
      "source": [
        "## Helper Functions"
      ]
    },
    {
      "cell_type": "code",
      "metadata": {
        "id": "blSkqluxvpnK"
      },
      "source": [
        "def plot_loss_curves(history):\n",
        "  \"\"\"\n",
        "  Returns separate loss curves for training and validation metrics.\n",
        "  \"\"\" \n",
        "  loss = history.history['loss']\n",
        "  val_loss = history.history['val_loss']\n",
        "\n",
        "  accuracy = history.history['accuracy']\n",
        "  val_accuracy = history.history['val_accuracy']\n",
        "\n",
        "  epochs = range(len(history.history['loss']))\n",
        "\n",
        "  # Plot loss\n",
        "  plt.plot(epochs, loss, label='training_loss')\n",
        "  plt.plot(epochs, val_loss, label='val_loss')\n",
        "  plt.title('Loss')\n",
        "  plt.xlabel('Epochs')\n",
        "  plt.legend()\n",
        "\n",
        "  # Plot accuracy\n",
        "  plt.figure()\n",
        "  plt.plot(epochs, accuracy, label='training_accuracy')\n",
        "  plt.plot(epochs, val_accuracy, label='val_accuracy')\n",
        "  plt.title('Accuracy')\n",
        "  plt.xlabel('Epochs')\n",
        "  plt.legend();"
      ],
      "execution_count": null,
      "outputs": []
    },
    {
      "cell_type": "code",
      "metadata": {
        "id": "V1KO2-VBvpVR"
      },
      "source": [
        "def splitIntoTrainAndTest(test_sz=0.2):\n",
        "  classes = os.listdir(ROOT)\n",
        "\n",
        "  os.mkdir(ROOT+'train')\n",
        "  os.mkdir(ROOT+'test')\n",
        "\n",
        "  for class_ in classes:\n",
        "    os.mkdir(ROOT+'train/'+class_)\n",
        "    os.mkdir(ROOT+'test/'+class_)\n",
        "\n",
        "  print('Moving files...')\n",
        "\n",
        "  for class_ in classes:\n",
        "    all_files = os.listdir(ROOT+class_)\n",
        "    total = len(all_files)\n",
        "\n",
        "    train_files, test_files = all_files[:total-int(test_sz*total)], all_files[total-int(test_sz*total):]\n",
        "\n",
        "    for file in train_files:\n",
        "      src, dest = ROOT+class_+f'/{file}', ROOT+f'train/{class_}/'\n",
        "      shutil.move(src, dest)\n",
        "\n",
        "    for file in test_files:\n",
        "      src, dest = ROOT+class_+f'/{file}', ROOT+f'test/{class_}/'\n",
        "      shutil.move(src, dest)\n",
        "  \n",
        "  print('Files Moved!')\n",
        "  \n",
        "  for class_ in classes:\n",
        "    os.rmdir(ROOT+class_)"
      ],
      "execution_count": null,
      "outputs": []
    },
    {
      "cell_type": "markdown",
      "metadata": {
        "id": "hWq7fm76vgft"
      },
      "source": [
        "## Split Data into train and test sets"
      ]
    },
    {
      "cell_type": "code",
      "metadata": {
        "colab": {
          "base_uri": "https://localhost:8080/"
        },
        "id": "lgeUceOFnIyy",
        "outputId": "82c93841-490f-4ca2-c25d-4aea31d93de2"
      },
      "source": [
        "prompt = input('split dataset into train and test? (y/n):')\n",
        "print()\n",
        "if prompt=='y':\n",
        "  splitIntoTrainAndTest(test_sz=0.3)"
      ],
      "execution_count": null,
      "outputs": [
        {
          "output_type": "stream",
          "name": "stdout",
          "text": [
            "split dataset into train and test? (y/n):y\n",
            "\n",
            "Moving files...\n",
            "Files Moved!\n"
          ]
        }
      ]
    },
    {
      "cell_type": "markdown",
      "metadata": {
        "id": "mmGxfnSdywnp"
      },
      "source": [
        "# Data Augmentation"
      ]
    },
    {
      "cell_type": "code",
      "metadata": {
        "id": "Yq-ITPJNgG7I",
        "colab": {
          "base_uri": "https://localhost:8080/"
        },
        "outputId": "fa92540f-fa1e-4438-b5c7-794f793b4ff7"
      },
      "source": [
        "BATCH_SIZE = 64\n",
        "IMAGE_SHAPE = (396, 465)\n",
        "slack = 0.5\n",
        "\n",
        "train_datagen = ImageDataGenerator(\n",
        "    rescale=1/255.,\n",
        ")\n",
        "\n",
        "test_datagen = ImageDataGenerator(\n",
        "    rescale=1/255.\n",
        ")\n",
        "\n",
        "print('Training images:')\n",
        "train_data = train_datagen.flow_from_directory(\n",
        "    ROOT+'train',\n",
        "    target_size=IMAGE_SHAPE,\n",
        "    batch_size=BATCH_SIZE,\n",
        "    class_mode='categorical'\n",
        ")\n",
        "\n",
        "print('Testing images:')\n",
        "test_data = train_datagen.flow_from_directory(\n",
        "    ROOT+'test',\n",
        "    target_size=IMAGE_SHAPE,\n",
        "    batch_size=BATCH_SIZE,\n",
        "    class_mode='categorical'\n",
        ")"
      ],
      "execution_count": 21,
      "outputs": [
        {
          "output_type": "stream",
          "name": "stdout",
          "text": [
            "Training images:\n",
            "Found 9493 images belonging to 12 classes.\n",
            "Testing images:\n",
            "Found 4062 images belonging to 12 classes.\n"
          ]
        }
      ]
    },
    {
      "cell_type": "markdown",
      "metadata": {
        "id": "8hQUz21ZQ1Rj"
      },
      "source": [
        "## TFHub Model URLs"
      ]
    },
    {
      "cell_type": "code",
      "metadata": {
        "id": "yeRfm6TzoB3d"
      },
      "source": [
        "efficientnet_url = 'https://tfhub.dev/tensorflow/efficientnet/b3/feature-vector/1'\n",
        "resnet_url = 'https://tfhub.dev/google/imagenet/resnet_v2_50/feature_vector/5'"
      ],
      "execution_count": null,
      "outputs": []
    },
    {
      "cell_type": "markdown",
      "metadata": {
        "id": "nHpfLR-bn_Tx"
      },
      "source": [
        "## Build Model"
      ]
    },
    {
      "cell_type": "code",
      "metadata": {
        "id": "k2DAW6gjoCTS"
      },
      "source": [
        "def build_model(model_url, num_classes=12):\n",
        "  feature_extractor_layer = hub.KerasLayer(\n",
        "      model_url,\n",
        "      trainable=False,\n",
        "      name='feature_extraction_layer',\n",
        "      input_shape=IMAGE_SHAPE+(3,)\n",
        "  )\n",
        "\n",
        "  model = tf.keras.Sequential([\n",
        "    feature_extractor_layer,\n",
        "    layers.Dense(num_classes, activation='softmax', name='output_layer')      \n",
        "  ])\n",
        "\n",
        "  return model"
      ],
      "execution_count": null,
      "outputs": []
    },
    {
      "cell_type": "markdown",
      "metadata": {
        "id": "mIpUXkHpoCpF"
      },
      "source": [
        "## Load and fit model"
      ]
    },
    {
      "cell_type": "markdown",
      "metadata": {
        "id": "iIzyoK44uLw6"
      },
      "source": [
        "### 1. ResNet V2 50"
      ]
    },
    {
      "cell_type": "code",
      "metadata": {
        "colab": {
          "base_uri": "https://localhost:8080/"
        },
        "id": "9b3uZQ9uJ_Sw",
        "outputId": "e16c0a58-4f0c-4d13-9e79-6cdf70466a74"
      },
      "source": [
        "# load model\n",
        "model = build_model(resnet_url)\n",
        "\n",
        "# Compile the model\n",
        "model.compile(\n",
        "    loss='categorical_crossentropy',\n",
        "    optimizer=tf.keras.optimizers.Adam(),\n",
        "    metrics=['accuracy']\n",
        ")\n",
        "\n",
        "model.summary()"
      ],
      "execution_count": null,
      "outputs": [
        {
          "output_type": "stream",
          "name": "stdout",
          "text": [
            "Model: \"sequential\"\n",
            "_________________________________________________________________\n",
            "Layer (type)                 Output Shape              Param #   \n",
            "=================================================================\n",
            "feature_extraction_layer (Ke (None, 2048)              23564800  \n",
            "_________________________________________________________________\n",
            "output_layer (Dense)         (None, 12)                24588     \n",
            "=================================================================\n",
            "Total params: 23,589,388\n",
            "Trainable params: 24,588\n",
            "Non-trainable params: 23,564,800\n",
            "_________________________________________________________________\n"
          ]
        }
      ]
    },
    {
      "cell_type": "code",
      "metadata": {
        "colab": {
          "base_uri": "https://localhost:8080/"
        },
        "id": "_wtEjpcaRz1W",
        "outputId": "11ea7df1-3c07-4f43-8810-41856933c477"
      },
      "source": [
        "(model.input_shape, model.output_shape)"
      ],
      "execution_count": null,
      "outputs": [
        {
          "output_type": "execute_result",
          "data": {
            "text/plain": [
              "((None, 396, 465, 3), (None, 12))"
            ]
          },
          "metadata": {},
          "execution_count": 11
        }
      ]
    },
    {
      "cell_type": "code",
      "metadata": {
        "colab": {
          "base_uri": "https://localhost:8080/"
        },
        "id": "oLqmSO0RTvEI",
        "outputId": "7acbd9ad-a1f3-466d-dc2b-dc1c44806299"
      },
      "source": [
        "history = model.fit(\n",
        "    train_data,\n",
        "    epochs=3,\n",
        "    steps_per_epoch=len(train_data),\n",
        "    validation_data=test_data,\n",
        "    validation_steps=len(test_data),\n",
        ")"
      ],
      "execution_count": null,
      "outputs": [
        {
          "output_type": "stream",
          "name": "stdout",
          "text": [
            "Epoch 1/3\n",
            "149/149 [==============================] - 337s 2s/step - loss: 0.5433 - accuracy: 0.8492 - val_loss: 0.2548 - val_accuracy: 0.9259\n",
            "Epoch 2/3\n",
            "149/149 [==============================] - 290s 2s/step - loss: 0.1959 - accuracy: 0.9410 - val_loss: 0.2094 - val_accuracy: 0.9338\n",
            "Epoch 3/3\n",
            "149/149 [==============================] - 290s 2s/step - loss: 0.1483 - accuracy: 0.9540 - val_loss: 0.1882 - val_accuracy: 0.9402\n"
          ]
        }
      ]
    },
    {
      "cell_type": "code",
      "metadata": {
        "id": "xzUcAXSIDEEJ",
        "colab": {
          "base_uri": "https://localhost:8080/"
        },
        "outputId": "9f01c218-3a66-4ebe-99a4-7d0facff0767"
      },
      "source": [
        "model.evaluate(test_data)"
      ],
      "execution_count": null,
      "outputs": [
        {
          "output_type": "stream",
          "name": "stdout",
          "text": [
            "64/64 [==============================] - 88s 1s/step - loss: 0.1882 - accuracy: 0.9402\n"
          ]
        },
        {
          "output_type": "execute_result",
          "data": {
            "text/plain": [
              "[0.18815423548221588, 0.9401772618293762]"
            ]
          },
          "metadata": {},
          "execution_count": 14
        }
      ]
    },
    {
      "cell_type": "code",
      "metadata": {
        "colab": {
          "base_uri": "https://localhost:8080/",
          "height": 573
        },
        "id": "0YvdR5_hu_et",
        "outputId": "0fcf714f-d806-42a3-887a-fc3b9adfd7e7"
      },
      "source": [
        "plot_loss_curves(history)"
      ],
      "execution_count": null,
      "outputs": [
        {
          "output_type": "display_data",
          "data": {
            "image/png": "[encoded data removed]",
            "text/plain": [
              "<Figure size 432x288 with 1 Axes>"
            ]
          },
          "metadata": {
            "needs_background": "light"
          }
        },
        {
          "output_type": "display_data",
          "data": {
            "image/png": "[encoded data removed]",
            "text/plain": [
              "<Figure size 432x288 with 1 Axes>"
            ]
          },
          "metadata": {
            "needs_background": "light"
          }
        }
      ]
    },
    {
      "cell_type": "code",
      "metadata": {
        "id": "PuhTPpeOuib6"
      },
      "source": [
        "model.save(save_location+'ResNet-V2-50')"
      ],
      "execution_count": 19,
      "outputs": []
    },
    {
      "cell_type": "markdown",
      "metadata": {
        "id": "EuXPP06oyGQ6"
      },
      "source": [
        "### 2. EfficientNet B3"
      ]
    },
    {
      "cell_type": "code",
      "metadata": {
        "colab": {
          "base_uri": "https://localhost:8080/"
        },
        "id": "GuX0y28XyNzc",
        "outputId": "eae46f5d-3ce3-4e60-abec-9503927982ff"
      },
      "source": [
        "# load model\n",
        "model = build_model(efficientnet_url)\n",
        "\n",
        "# Compile the model\n",
        "model.compile(\n",
        "    loss='categorical_crossentropy',\n",
        "    optimizer=tf.keras.optimizers.Adam(),\n",
        "    metrics=['accuracy']\n",
        ")\n",
        "\n",
        "model.summary()"
      ],
      "execution_count": null,
      "outputs": [
        {
          "output_type": "stream",
          "name": "stdout",
          "text": [
            "Model: \"sequential\"\n",
            "_________________________________________________________________\n",
            "Layer (type)                 Output Shape              Param #   \n",
            "=================================================================\n",
            "feature_extraction_layer (Ke (None, 1536)              10783528  \n",
            "_________________________________________________________________\n",
            "output_layer (Dense)         (None, 12)                18444     \n",
            "=================================================================\n",
            "Total params: 10,801,972\n",
            "Trainable params: 18,444\n",
            "Non-trainable params: 10,783,528\n",
            "_________________________________________________________________\n"
          ]
        }
      ]
    },
    {
      "cell_type": "code",
      "metadata": {
        "colab": {
          "base_uri": "https://localhost:8080/"
        },
        "id": "klooZelryNq7",
        "outputId": "0a76f3e3-4cdb-4165-9eaf-4c09748c6984"
      },
      "source": [
        "(model.input_shape, model.output_shape)"
      ],
      "execution_count": null,
      "outputs": [
        {
          "output_type": "execute_result",
          "data": {
            "text/plain": [
              "((None, 396, 465, 3), (None, 12))"
            ]
          },
          "metadata": {},
          "execution_count": 14
        }
      ]
    },
    {
      "cell_type": "code",
      "metadata": {
        "colab": {
          "base_uri": "https://localhost:8080/"
        },
        "id": "qunHeu6_yNoT",
        "outputId": "534c4f0d-d207-4b39-d56a-5198da2417ec"
      },
      "source": [
        "history = model.fit(\n",
        "    train_data,\n",
        "    epochs=3,\n",
        "    steps_per_epoch=len(train_data),\n",
        "    validation_data=test_data,\n",
        "    validation_steps=len(test_data),\n",
        ")"
      ],
      "execution_count": null,
      "outputs": [
        {
          "output_type": "stream",
          "name": "stdout",
          "text": [
            "Epoch 1/3\n",
            "149/149 [==============================] - 398s 2s/step - loss: 0.4946 - accuracy: 0.8776 - val_loss: 0.2321 - val_accuracy: 0.9404\n",
            "Epoch 2/3\n",
            "149/149 [==============================] - 342s 2s/step - loss: 0.1792 - accuracy: 0.9509 - val_loss: 0.1869 - val_accuracy: 0.9481\n",
            "Epoch 3/3\n",
            "149/149 [==============================] - 347s 2s/step - loss: 0.1380 - accuracy: 0.9593 - val_loss: 0.1701 - val_accuracy: 0.9515\n"
          ]
        }
      ]
    },
    {
      "cell_type": "code",
      "metadata": {
        "colab": {
          "base_uri": "https://localhost:8080/"
        },
        "id": "YKZPT7WZyNmF",
        "outputId": "47c9c39a-3d05-410f-d923-59992c9918c7"
      },
      "source": [
        "model.evaluate(test_data)"
      ],
      "execution_count": null,
      "outputs": [
        {
          "output_type": "stream",
          "name": "stdout",
          "text": [
            "64/64 [==============================] - 105s 2s/step - loss: 0.1701 - accuracy: 0.9515\n"
          ]
        },
        {
          "output_type": "execute_result",
          "data": {
            "text/plain": [
              "[0.17008236050605774, 0.951501727104187]"
            ]
          },
          "metadata": {},
          "execution_count": 16
        }
      ]
    },
    {
      "cell_type": "code",
      "metadata": {
        "colab": {
          "base_uri": "https://localhost:8080/",
          "height": 573
        },
        "id": "UAbW4QWQyaGF",
        "outputId": "6d735446-6e25-457a-c6ef-b7063151b85f"
      },
      "source": [
        "plot_loss_curves(history)"
      ],
      "execution_count": null,
      "outputs": [
        {
          "output_type": "display_data",
          "data": {
            "image/png": "[encoded data removed]",
            "text/plain": [
              "<Figure size 432x288 with 1 Axes>"
            ]
          },
          "metadata": {
            "needs_background": "light"
          }
        },
        {
          "output_type": "display_data",
          "data": {
            "image/png": "[encoded data removed]",
            "text/plain": [
              "<Figure size 432x288 with 1 Axes>"
            ]
          },
          "metadata": {
            "needs_background": "light"
          }
        }
      ]
    },
    {
      "cell_type": "code",
      "metadata": {
        "id": "LG1Co_M1yaBY"
      },
      "source": [
        "model.save(save_location+'EfficientNet-B3')"
      ],
      "execution_count": 20,
      "outputs": []
    },
    {
      "cell_type": "markdown",
      "metadata": {
        "id": "WRLnAvAaw26E"
      },
      "source": [
        "## Mapping"
      ]
    },
    {
      "cell_type": "markdown",
      "metadata": {
        "id": "HikAV2Ucx_6U"
      },
      "source": [
        "```python\n",
        "mapping = {\n",
        "    'Damaged Infrastructure': 0,\n",
        "    'Drought': 1,\n",
        "    'Earthquake': 2,\n",
        "    'Injured Human': 3,\n",
        "    'Land Slide': 4,\n",
        "    'Safe Forest': 5,\n",
        "    'Safe Human': 6,\n",
        "    'Safe Infrastructure': 7,\n",
        "    'Safe Water': 8,\n",
        "    'Urban Fire': 9,\n",
        "    'Water Disaster': 10,\n",
        "    'Wild Fire': 11\n",
        "}\n",
        "\n",
        "\n",
        "# make sure test data is of dimension: (N x 396 x 465 x 3)\n",
        "class_index = np.argmax(\n",
        "  model.predict(test_data)\n",
        ")\n",
        "\n",
        "# gets you the predicted class's name\n",
        "class_name = mapping[class_index]\n",
        "```"
      ]
    },
    {
      "cell_type": "code",
      "metadata": {
        "id": "HczIfqoTFE1R"
      },
      "source": [
        ""
      ],
      "execution_count": null,
      "outputs": []
    }
  ]
}
