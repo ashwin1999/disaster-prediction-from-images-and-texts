{
  "nbformat": 4,
  "nbformat_minor": 0,
  "metadata": {
    "colab": {
      "name": "Disaster Tweets Classification.ipynb",
      "provenance": [],
      "collapsed_sections": [
        "hNbMuPw2zP2D",
        "gANtm2kUygz7",
        "bxpY0I-QzVUU"
      ]
    },
    "kernelspec": {
      "name": "python3",
      "display_name": "Python 3"
    },
    "language_info": {
      "name": "python"
    },
    "accelerator": "GPU"
  },
  "cells": [
    {
      "cell_type": "markdown",
      "metadata": {
        "id": "hNbMuPw2zP2D"
      },
      "source": [
        "## Load Libraries"
      ]
    },
    {
      "cell_type": "code",
      "metadata": {
        "id": "kDMM6CtUzXnn"
      },
      "source": [
        "# !pip install tensorflow_text"
      ],
      "execution_count": 1,
      "outputs": []
    },
    {
      "cell_type": "code",
      "metadata": {
        "id": "UFWun3WNrRXq"
      },
      "source": [
        "import os\n",
        "import numpy as np\n",
        "import pandas as pd\n",
        "import re\n",
        "\n",
        "import tensorflow as tf\n",
        "from tensorflow.keras import layers\n",
        "import tensorflow_hub as hub\n",
        "import tensorflow_text as text\n",
        "\n",
        "from sklearn import metrics\n",
        "\n",
        "ROOT = '/content/drive/MyDrive/Project Datasets/Data/DisasterTweets/'"
      ],
      "execution_count": 2,
      "outputs": []
    },
    {
      "cell_type": "markdown",
      "metadata": {
        "id": "gANtm2kUygz7"
      },
      "source": [
        "# Read the cleaned train and validation sets"
      ]
    },
    {
      "cell_type": "code",
      "metadata": {
        "colab": {
          "base_uri": "https://localhost:8080/",
          "height": 203
        },
        "id": "aa00Hcu3rbAS",
        "outputId": "4e869100-b0af-47ea-94df-1ea646ef5bad"
      },
      "source": [
        "train = pd.read_csv(ROOT+'custom/custom_train.csv')\n",
        "train.head()"
      ],
      "execution_count": 3,
      "outputs": [
        {
          "output_type": "execute_result",
          "data": {
            "text/html": [
              "<div>\n",
              "<style scoped>\n",
              "    .dataframe tbody tr th:only-of-type {\n",
              "        vertical-align: middle;\n",
              "    }\n",
              "\n",
              "    .dataframe tbody tr th {\n",
              "        vertical-align: top;\n",
              "    }\n",
              "\n",
              "    .dataframe thead th {\n",
              "        text-align: right;\n",
              "    }\n",
              "</style>\n",
              "<table border=\"1\" class=\"dataframe\">\n",
              "  <thead>\n",
              "    <tr style=\"text-align: right;\">\n",
              "      <th></th>\n",
              "      <th>text</th>\n",
              "      <th>target</th>\n",
              "    </tr>\n",
              "  </thead>\n",
              "  <tbody>\n",
              "    <tr>\n",
              "      <th>0</th>\n",
              "      <td>national briefing west california spring oil s...</td>\n",
              "      <td>1</td>\n",
              "    </tr>\n",
              "    <tr>\n",
              "      <th>1</th>\n",
              "      <td>max blew tf shots fired catfishmtv</td>\n",
              "      <td>0</td>\n",
              "    </tr>\n",
              "    <tr>\n",
              "      <th>2</th>\n",
              "      <td>hellfire song hunchback notre dame reminds lot...</td>\n",
              "      <td>0</td>\n",
              "    </tr>\n",
              "    <tr>\n",
              "      <th>3</th>\n",
              "      <td>space_wolverine harm foul somebody needed say</td>\n",
              "      <td>0</td>\n",
              "    </tr>\n",
              "    <tr>\n",
              "      <th>4</th>\n",
              "      <td>joel 228 book acts 217 http tco rgpem2tqej</td>\n",
              "      <td>0</td>\n",
              "    </tr>\n",
              "  </tbody>\n",
              "</table>\n",
              "</div>"
            ],
            "text/plain": [
              "                                                text  target\n",
              "0  national briefing west california spring oil s...       1\n",
              "1                 max blew tf shots fired catfishmtv       0\n",
              "2  hellfire song hunchback notre dame reminds lot...       0\n",
              "3      space_wolverine harm foul somebody needed say       0\n",
              "4         joel 228 book acts 217 http tco rgpem2tqej       0"
            ]
          },
          "metadata": {},
          "execution_count": 3
        }
      ]
    },
    {
      "cell_type": "code",
      "metadata": {
        "colab": {
          "base_uri": "https://localhost:8080/",
          "height": 203
        },
        "id": "RbqJiARByzpK",
        "outputId": "beb91baf-4859-4f05-fda7-215148dd2c8c"
      },
      "source": [
        "test = pd.read_csv(ROOT+'custom/custom_test.csv')\n",
        "test.head()"
      ],
      "execution_count": 4,
      "outputs": [
        {
          "output_type": "execute_result",
          "data": {
            "text/html": [
              "<div>\n",
              "<style scoped>\n",
              "    .dataframe tbody tr th:only-of-type {\n",
              "        vertical-align: middle;\n",
              "    }\n",
              "\n",
              "    .dataframe tbody tr th {\n",
              "        vertical-align: top;\n",
              "    }\n",
              "\n",
              "    .dataframe thead th {\n",
              "        text-align: right;\n",
              "    }\n",
              "</style>\n",
              "<table border=\"1\" class=\"dataframe\">\n",
              "  <thead>\n",
              "    <tr style=\"text-align: right;\">\n",
              "      <th></th>\n",
              "      <th>text</th>\n",
              "      <th>target</th>\n",
              "    </tr>\n",
              "  </thead>\n",
              "  <tbody>\n",
              "    <tr>\n",
              "      <th>0</th>\n",
              "      <td>bad say im kinda afraid storms storm help</td>\n",
              "      <td>1</td>\n",
              "    </tr>\n",
              "    <tr>\n",
              "      <th>1</th>\n",
              "      <td>nbanews soudelor typhoon soudelor taking dead ...</td>\n",
              "      <td>1</td>\n",
              "    </tr>\n",
              "    <tr>\n",
              "      <th>2</th>\n",
              "      <td>perspectives terrorism understanding jihadi pr...</td>\n",
              "      <td>1</td>\n",
              "    </tr>\n",
              "    <tr>\n",
              "      <th>3</th>\n",
              "      <td>justinbieber arianagrande hear screaming</td>\n",
              "      <td>0</td>\n",
              "    </tr>\n",
              "    <tr>\n",
              "      <th>4</th>\n",
              "      <td>whvholst leashless structural problem rather f...</td>\n",
              "      <td>0</td>\n",
              "    </tr>\n",
              "  </tbody>\n",
              "</table>\n",
              "</div>"
            ],
            "text/plain": [
              "                                                text  target\n",
              "0          bad say im kinda afraid storms storm help       1\n",
              "1  nbanews soudelor typhoon soudelor taking dead ...       1\n",
              "2  perspectives terrorism understanding jihadi pr...       1\n",
              "3           justinbieber arianagrande hear screaming       0\n",
              "4  whvholst leashless structural problem rather f...       0"
            ]
          },
          "metadata": {},
          "execution_count": 4
        }
      ]
    },
    {
      "cell_type": "markdown",
      "metadata": {
        "id": "5fjN0FNPy7yP"
      },
      "source": [
        "# Model Selection and Training"
      ]
    },
    {
      "cell_type": "markdown",
      "metadata": {
        "id": "bxpY0I-QzVUU"
      },
      "source": [
        "## Model Building"
      ]
    },
    {
      "cell_type": "code",
      "metadata": {
        "id": "T-qLW3e6pre-"
      },
      "source": [
        "def build_model():\n",
        "  encoder_url = \"https://tfhub.dev/tensorflow/bert_en_uncased_L-12_H-768_A-12/4\"\n",
        "  preprocess_url = \"https://tfhub.dev/tensorflow/bert_en_uncased_preprocess/3\"\n",
        "\n",
        "  bert_encoder = hub.KerasLayer(encoder_url)\n",
        "  bert_preprocess = hub.KerasLayer(preprocess_url)\n",
        "\n",
        "  text_input = layers.Input(shape=(), dtype=tf.string, name='text')\n",
        "  preprocessed_text = bert_preprocess(text_input)\n",
        "  outputs = bert_encoder(preprocessed_text)\n",
        "\n",
        "  l = layers.Dense(64, activation='relu', name='fully-connected-1')(outputs[\"pooled_output\"])\n",
        "  l = layers.Dense(1, activation='sigmoid', name='output-layer')(l)\n",
        "\n",
        "  model = tf.keras.Model(inputs=[text_input], outputs=[l])\n",
        "\n",
        "  model.compile(\n",
        "      loss=\"binary_crossentropy\",\n",
        "      optimizer=tf.keras.optimizers.Adam(),\n",
        "      metrics=[\"accuracy\"]\n",
        "  )\n",
        "\n",
        "  return model"
      ],
      "execution_count": 5,
      "outputs": []
    },
    {
      "cell_type": "code",
      "metadata": {
        "id": "PiprbeQcPSYs",
        "colab": {
          "base_uri": "https://localhost:8080/"
        },
        "outputId": "cb1e70fb-971c-4992-c894-770fb6d51f8f"
      },
      "source": [
        "model = build_model()\n",
        "model.summary()"
      ],
      "execution_count": 6,
      "outputs": [
        {
          "output_type": "stream",
          "name": "stdout",
          "text": [
            "Model: \"model\"\n",
            "__________________________________________________________________________________________________\n",
            "Layer (type)                    Output Shape         Param #     Connected to                     \n",
            "==================================================================================================\n",
            "text (InputLayer)               [(None,)]            0                                            \n",
            "__________________________________________________________________________________________________\n",
            "keras_layer_1 (KerasLayer)      {'input_word_ids': ( 0           text[0][0]                       \n",
            "__________________________________________________________________________________________________\n",
            "keras_layer (KerasLayer)        {'sequence_output':  109482241   keras_layer_1[0][0]              \n",
            "                                                                 keras_layer_1[0][1]              \n",
            "                                                                 keras_layer_1[0][2]              \n",
            "__________________________________________________________________________________________________\n",
            "fully-connected-1 (Dense)       (None, 64)           49216       keras_layer[0][13]               \n",
            "__________________________________________________________________________________________________\n",
            "output-layer (Dense)            (None, 1)            65          fully-connected-1[0][0]          \n",
            "==================================================================================================\n",
            "Total params: 109,531,522\n",
            "Trainable params: 49,281\n",
            "Non-trainable params: 109,482,241\n",
            "__________________________________________________________________________________________________\n"
          ]
        }
      ]
    },
    {
      "cell_type": "markdown",
      "metadata": {
        "id": "i3j84m4hzGyY"
      },
      "source": [
        "## Model Training"
      ]
    },
    {
      "cell_type": "code",
      "metadata": {
        "colab": {
          "base_uri": "https://localhost:8080/"
        },
        "id": "CuC0gnnx3EG8",
        "outputId": "e0ff4782-0409-459c-f24f-2096cfe792ab"
      },
      "source": [
        "history = model.fit(\n",
        "    train.text.to_numpy(),\n",
        "    train.target.to_numpy(),\n",
        "    epochs=10,\n",
        "    validation_data=(test.text.to_numpy(), test.target.to_numpy()),\n",
        "    callbacks=[\n",
        "              tf.keras.callbacks.EarlyStopping(monitor = 'val_loss', patience = 3)\n",
        "    ]\n",
        ")"
      ],
      "execution_count": 7,
      "outputs": [
        {
          "output_type": "stream",
          "name": "stdout",
          "text": [
            "Epoch 1/10\n",
            "179/179 [==============================] - 162s 835ms/step - loss: 0.6209 - accuracy: 0.6548 - val_loss: 0.5249 - val_accuracy: 0.7626\n",
            "Epoch 2/10\n",
            "179/179 [==============================] - 150s 840ms/step - loss: 0.5534 - accuracy: 0.7339 - val_loss: 0.4999 - val_accuracy: 0.7815\n",
            "Epoch 3/10\n",
            "179/179 [==============================] - 149s 831ms/step - loss: 0.5371 - accuracy: 0.7427 - val_loss: 0.4815 - val_accuracy: 0.7894\n",
            "Epoch 4/10\n",
            "179/179 [==============================] - 148s 826ms/step - loss: 0.5114 - accuracy: 0.7613 - val_loss: 0.4779 - val_accuracy: 0.7920\n",
            "Epoch 5/10\n",
            "179/179 [==============================] - 147s 820ms/step - loss: 0.5096 - accuracy: 0.7602 - val_loss: 0.4645 - val_accuracy: 0.7920\n",
            "Epoch 6/10\n",
            "179/179 [==============================] - 147s 823ms/step - loss: 0.5110 - accuracy: 0.7609 - val_loss: 0.4599 - val_accuracy: 0.7962\n",
            "Epoch 7/10\n",
            "179/179 [==============================] - 147s 821ms/step - loss: 0.5050 - accuracy: 0.7639 - val_loss: 0.4694 - val_accuracy: 0.7936\n",
            "Epoch 8/10\n",
            "179/179 [==============================] - 147s 822ms/step - loss: 0.5067 - accuracy: 0.7637 - val_loss: 0.4654 - val_accuracy: 0.7873\n",
            "Epoch 9/10\n",
            "179/179 [==============================] - 147s 823ms/step - loss: 0.5024 - accuracy: 0.7674 - val_loss: 0.5037 - val_accuracy: 0.7621\n"
          ]
        }
      ]
    },
    {
      "cell_type": "markdown",
      "metadata": {
        "id": "0GEViE9s0Hct"
      },
      "source": [
        "## Model Classification Metrics"
      ]
    },
    {
      "cell_type": "code",
      "metadata": {
        "id": "3HSIJUI06tWG"
      },
      "source": [
        "preds = model.predict(test.text.to_numpy().reshape(-1,1))\n",
        "preds = tf.squeeze(tf.round(preds))"
      ],
      "execution_count": 8,
      "outputs": []
    },
    {
      "cell_type": "code",
      "metadata": {
        "id": "lhUR0iXd7UEg",
        "colab": {
          "base_uri": "https://localhost:8080/"
        },
        "outputId": "c7770958-1bbc-456a-b27e-c6e09fb22ee9"
      },
      "source": [
        "print(\"Confusion Matrix:\")\n",
        "print(metrics.confusion_matrix(preds, test.target.to_numpy()))\n",
        "print(\"\\nClassification Report:\")\n",
        "print(metrics.classification_report(preds, test.target.to_numpy()))"
      ],
      "execution_count": 9,
      "outputs": [
        {
          "output_type": "stream",
          "name": "stdout",
          "text": [
            "Confusion Matrix:\n",
            "[[771 138]\n",
            " [315 680]]\n",
            "\n",
            "Classification Report:\n",
            "              precision    recall  f1-score   support\n",
            "\n",
            "         0.0       0.71      0.85      0.77       909\n",
            "         1.0       0.83      0.68      0.75       995\n",
            "\n",
            "    accuracy                           0.76      1904\n",
            "   macro avg       0.77      0.77      0.76      1904\n",
            "weighted avg       0.77      0.76      0.76      1904\n",
            "\n"
          ]
        }
      ]
    },
    {
      "cell_type": "code",
      "metadata": {
        "colab": {
          "base_uri": "https://localhost:8080/"
        },
        "id": "6zw9jr18STn2",
        "outputId": "21b42478-d323-4c33-b3cc-0f1197959468"
      },
      "source": [
        "model.save(ROOT+'models/BERT')"
      ],
      "execution_count": 10,
      "outputs": [
        {
          "output_type": "stream",
          "name": "stderr",
          "text": [
            "WARNING:absl:Found untraced functions such as restored_function_body, restored_function_body, restored_function_body, restored_function_body, restored_function_body while saving (showing 5 of 915). These functions will not be directly callable after loading.\n"
          ]
        },
        {
          "output_type": "stream",
          "name": "stdout",
          "text": [
            "INFO:tensorflow:Assets written to: /content/drive/MyDrive/Project Datasets/Data/DisasterTweets/models/BERT/assets\n"
          ]
        },
        {
          "output_type": "stream",
          "name": "stderr",
          "text": [
            "INFO:tensorflow:Assets written to: /content/drive/MyDrive/Project Datasets/Data/DisasterTweets/models/BERT/assets\n"
          ]
        }
      ]
    },
    {
      "cell_type": "code",
      "metadata": {
        "id": "WQXUAdFmggXX"
      },
      "source": [
        ""
      ],
      "execution_count": null,
      "outputs": []
    }
  ]
}